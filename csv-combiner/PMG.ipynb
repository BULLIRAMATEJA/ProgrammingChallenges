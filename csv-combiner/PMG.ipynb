{
 "cells": [
  {
   "cell_type": "code",
   "execution_count": 3,
   "id": "51aa4ebb",
   "metadata": {},
   "outputs": [],
   "source": [
    "#Importing the necessary Libraries\n",
    "import os\n",
    "import pandas as pd\n",
    "import glob"
   ]
  },
  {
   "cell_type": "code",
   "execution_count": 4,
   "id": "98a7d301",
   "metadata": {},
   "outputs": [],
   "source": [
    "#Creating a variable called as output_filename with the value of Combined_file.csv in it.\n",
    "output_filename = \"Combined_file.csv\""
   ]
  },
  {
   "cell_type": "code",
   "execution_count": 5,
   "id": "fda22537",
   "metadata": {},
   "outputs": [],
   "source": [
    "# making sure if there is any other file exists with the same name in the given path. if exists this will remove it\n",
    "if os.path.exists(output_filename):\n",
    "    os.remove(output_filename)"
   ]
  },
  {
   "cell_type": "code",
   "execution_count": 6,
   "id": "e1580f49",
   "metadata": {},
   "outputs": [],
   "source": [
    "read_files = glob.glob(\"*.csv\") #Reading the files with the help of glob that has an extension of .csv\n",
    "with open(output_filename, \"w\") as outfile: #Opening a file with write permission which is the output file\n",
    "    for filename in read_files: #Running a for loop for the files we read using glob with filename as variable.\n",
    "        with open(filename) as infile: #Opening those files with filename instance\n",
    "            for line in infile: #Again running a for loop to write the filename\n",
    "                outfile.write('{},{}\\n'.format(line.strip(), filename)) #Writing the filename"
   ]
  }
 ],
 "metadata": {
  "kernelspec": {
   "display_name": "Python 3 (ipykernel)",
   "language": "python",
   "name": "python3"
  },
  "language_info": {
   "codemirror_mode": {
    "name": "ipython",
    "version": 3
   },
   "file_extension": ".py",
   "mimetype": "text/x-python",
   "name": "python",
   "nbconvert_exporter": "python",
   "pygments_lexer": "ipython3",
   "version": "3.9.10"
  }
 },
 "nbformat": 4,
 "nbformat_minor": 5
}
